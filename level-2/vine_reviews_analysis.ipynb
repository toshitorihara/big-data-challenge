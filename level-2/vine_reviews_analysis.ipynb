{
  "cells": [
    {
      "cell_type": "code",
      "execution_count": 1,
      "metadata": {
        "colab": {
          "base_uri": "https://localhost:8080/"
        },
        "id": "PfhbCLVe9NOA",
        "outputId": "423bcc2f-9bec-4ad9-b6f9-d61e31981ce6"
      },
      "outputs": [
        {
          "name": "stdout",
          "output_type": "stream",
          "text": [
            "\r0% [Working]\r            \rGet:1 http://ppa.launchpad.net/c2d4u.team/c2d4u4.0+/ubuntu bionic InRelease [15.9 kB]\n",
            "\r0% [Waiting for headers] [Connecting to security.ubuntu.com (91.189.91.39)] [Co\r0% [Waiting for headers] [Connecting to security.ubuntu.com (91.189.91.39)] [Co\r                                                                               \rHit:2 http://archive.ubuntu.com/ubuntu bionic InRelease\n",
            "\r                                                                               \rGet:3 http://archive.ubuntu.com/ubuntu bionic-updates InRelease [88.7 kB]\n",
            "\r0% [3 InRelease 35.9 kB/88.7 kB 40%] [Connecting to security.ubuntu.com (91.189\r0% [1 InRelease gpgv 15.9 kB] [3 InRelease 47.5 kB/88.7 kB 54%] [Connecting to \r                                                                               \rHit:4 http://ppa.launchpad.net/cran/libgit2/ubuntu bionic InRelease\n",
            "\r0% [1 InRelease gpgv 15.9 kB] [3 InRelease 47.5 kB/88.7 kB 54%] [Connecting to \r                                                                               \rGet:5 https://cloud.r-project.org/bin/linux/ubuntu bionic-cran40/ InRelease [3,626 B]\n",
            "\r0% [1 InRelease gpgv 15.9 kB] [Waiting for headers] [Connecting to security.ubu\r                                                                               \rGet:6 http://archive.ubuntu.com/ubuntu bionic-backports InRelease [74.6 kB]\n",
            "\r0% [1 InRelease gpgv 15.9 kB] [6 InRelease 20.0 kB/74.6 kB 27%] [Waiting for he\r                                                                               \rGet:7 http://ppa.launchpad.net/deadsnakes/ppa/ubuntu bionic InRelease [15.9 kB]\n",
            "Hit:8 http://ppa.launchpad.net/graphics-drivers/ppa/ubuntu bionic InRelease\n",
            "Get:9 http://security.ubuntu.com/ubuntu bionic-security InRelease [88.7 kB]\n",
            "Get:10 http://ppa.launchpad.net/c2d4u.team/c2d4u4.0+/ubuntu bionic/main Sources [1,810 kB]\n",
            "Get:11 http://ppa.launchpad.net/c2d4u.team/c2d4u4.0+/ubuntu bionic/main amd64 Packages [926 kB]\n",
            "Ign:12 https://developer.download.nvidia.com/compute/cuda/repos/ubuntu1804/x86_64  InRelease\n",
            "Get:13 http://archive.ubuntu.com/ubuntu bionic-updates/restricted amd64 Packages [665 kB]\n",
            "Ign:14 https://developer.download.nvidia.com/compute/machine-learning/repos/ubuntu1804/x86_64  InRelease\n",
            "Get:15 https://developer.download.nvidia.com/compute/cuda/repos/ubuntu1804/x86_64  Release [696 B]\n",
            "Hit:16 https://developer.download.nvidia.com/compute/machine-learning/repos/ubuntu1804/x86_64  Release\n",
            "Get:17 https://developer.download.nvidia.com/compute/cuda/repos/ubuntu1804/x86_64  Release.gpg [836 B]\n",
            "Get:18 http://archive.ubuntu.com/ubuntu bionic-updates/universe amd64 Packages [2,213 kB]\n",
            "Get:19 http://archive.ubuntu.com/ubuntu bionic-updates/main amd64 Packages [2,835 kB]\n",
            "Get:20 https://cloud.r-project.org/bin/linux/ubuntu bionic-cran40/ Packages [69.5 kB]\n",
            "Get:21 http://ppa.launchpad.net/deadsnakes/ppa/ubuntu bionic/main amd64 Packages [45.3 kB]\n",
            "Get:22 http://security.ubuntu.com/ubuntu bionic-security/main amd64 Packages [2,396 kB]\n",
            "Get:24 https://developer.download.nvidia.com/compute/cuda/repos/ubuntu1804/x86_64  Packages [753 kB]\n",
            "Get:25 http://security.ubuntu.com/ubuntu bionic-security/universe amd64 Packages [1,434 kB]\n",
            "Get:26 http://security.ubuntu.com/ubuntu bionic-security/restricted amd64 Packages [630 kB]\n",
            "Fetched 14.1 MB in 3s (4,095 kB/s)\n",
            "Reading package lists... Done\n"
          ]
        }
      ],
      "source": [
        "import os\n",
        "# Find the latest version of spark 3.0  from http://www.apache.org/dist/spark/ and enter as the spark version\n",
        "# For example:\n",
        "spark_version = 'spark-3.0.3'\n",
        "# spark_version = 'spark-3.<enter version>'\n",
        "os.environ['SPARK_VERSION']=spark_version\n",
        "\n",
        "# Install Spark and Java\n",
        "!apt-get update\n",
        "!apt-get install openjdk-8-jdk-headless -qq > /dev/null\n",
        "!wget -q http://www.apache.org/dist/spark/$SPARK_VERSION/$SPARK_VERSION-bin-hadoop2.7.tgz\n",
        "!tar xf $SPARK_VERSION-bin-hadoop2.7.tgz\n",
        "!pip install -q findspark\n",
        "\n",
        "# Set Environment Variables\n",
        "os.environ[\"JAVA_HOME\"] = \"/usr/lib/jvm/java-8-openjdk-amd64\"\n",
        "os.environ[\"SPARK_HOME\"] = f\"/content/{spark_version}-bin-hadoop2.7\"\n",
        "\n",
        "# Start a SparkSession\n",
        "import findspark\n",
        "findspark.init()"
      ]
    },
    {
      "cell_type": "code",
      "execution_count": 2,
      "metadata": {
        "colab": {
          "base_uri": "https://localhost:8080/"
        },
        "id": "ZKy0iaGp9uYP",
        "outputId": "bb8e5ca7-6f7c-4b8c-85e5-2ad44cc24750"
      },
      "outputs": [
        {
          "name": "stdout",
          "output_type": "stream",
          "text": [
            "--2021-10-24 05:32:05--  https://jdbc.postgresql.org/download/postgresql-42.2.9.jar\n",
            "Resolving jdbc.postgresql.org (jdbc.postgresql.org)... 72.32.157.228, 2001:4800:3e1:1::228\n",
            "Connecting to jdbc.postgresql.org (jdbc.postgresql.org)|72.32.157.228|:443... connected.\n",
            "HTTP request sent, awaiting response... 200 OK\n",
            "Length: 914037 (893K) [application/java-archive]\n",
            "Saving to: ‘postgresql-42.2.9.jar’\n",
            "\n",
            "postgresql-42.2.9.j 100%[===================>] 892.61K  1.77MB/s    in 0.5s    \n",
            "\n",
            "2021-10-24 05:32:06 (1.77 MB/s) - ‘postgresql-42.2.9.jar’ saved [914037/914037]\n",
            "\n"
          ]
        }
      ],
      "source": [
        "!wget https://jdbc.postgresql.org/download/postgresql-42.2.9.jar"
      ]
    },
    {
      "cell_type": "code",
      "execution_count": 3,
      "metadata": {
        "id": "ySKURaRX9uV9"
      },
      "outputs": [],
      "source": [
        "from pyspark.sql import SparkSession\n",
        "spark = SparkSession.builder.appName(\"CloudETL\").config(\"spark.driver.extraClassPath\",\"/content/postgresql-42.2.9.jar\").getOrCreate()"
      ]
    },
    {
      "cell_type": "code",
      "execution_count": 4,
      "metadata": {
        "id": "okAxgAcf9uTY"
      },
      "outputs": [],
      "source": [
        "#replace <your ...> with your database connection information\n",
        "mode=\"append\"\n",
        "jdbc_url = \"jdbc:postgresql://mypostgresdb.<>.rds.amazonaws.com:5432/my_data_base_db\"\n",
        "config = {\"user\":\"root\", \"password\": \"<>\", \"driver\":\"org.postgresql.Driver\"}"
      ]
    },
    {
      "cell_type": "code",
      "execution_count": 15,
      "metadata": {
        "colab": {
          "base_uri": "https://localhost:8080/"
        },
        "id": "_ArpBSrm9uRK",
        "outputId": "ad5442d2-f4ca-405d-a60d-046f3eac91e4"
      },
      "outputs": [
        {
          "name": "stdout",
          "output_type": "stream",
          "text": [
            "+--------------+-----------+-------------+-----------+----+\n",
            "|     review_id|star_rating|helpful_votes|total_votes|vine|\n",
            "+--------------+-----------+-------------+-----------+----+\n",
            "|R108YXX9X92XRQ|          5|            1|          1|   Y|\n",
            "|R1EMOUJ76U86ZC|          5|            2|          3|   Y|\n",
            "| RLHS2TBW58XX7|          4|            0|          0|   Y|\n",
            "| RCC23D88Y2QDC|          5|            3|          3|   Y|\n",
            "|R24PS9N276OXF4|          5|          241|        262|   Y|\n",
            "|R1OKWU37KMFS8B|          5|            0|          0|   Y|\n",
            "|R18EJDX9IX3JF3|          3|            0|          0|   Y|\n",
            "|R21O8AAVY3M8KB|          5|            0|          0|   Y|\n",
            "| RWW8JGLKWAT76|          2|            5|         11|   Y|\n",
            "|R325H4RLI9LLM3|          3|            0|          3|   Y|\n",
            "+--------------+-----------+-------------+-----------+----+\n",
            "only showing top 10 rows\n",
            "\n"
          ]
        }
      ],
      "source": [
        "video_game_reviews = spark.read.jdbc(url=jdbc_url,table=\"video_game_vine_reviews\", properties=config)\n",
        "video_game_reviews.show(10)"
      ]
    },
    {
      "cell_type": "code",
      "execution_count": 6,
      "metadata": {
        "colab": {
          "base_uri": "https://localhost:8080/"
        },
        "id": "rVwoaZCw9uOU",
        "outputId": "ad57d2db-5cac-4050-e3b8-fe9d89bb217d"
      },
      "outputs": [
        {
          "name": "stdout",
          "output_type": "stream",
          "text": [
            "+--------------+-----------+-------------+-----------+----+\n",
            "|     review_id|star_rating|helpful_votes|total_votes|vine|\n",
            "+--------------+-----------+-------------+-----------+----+\n",
            "|R1RW6ARVYGN410|          4|            3|          5|   Y|\n",
            "|R100Z9FFN9D73B|          5|            0|          2|   Y|\n",
            "| RYMCEXWWQETDB|          4|            0|          0|   Y|\n",
            "|R2XN3NK57JEJTQ|          5|            0|          0|   Y|\n",
            "|R36QWUD2SMRLUO|          4|            0|          0|   Y|\n",
            "| RJF642Q0WFZMZ|          2|            0|          0|   Y|\n",
            "|R3LZ0FGVU40DSY|          4|            0|          0|   Y|\n",
            "|R2YT6R26UBM17X|          3|            0|          0|   Y|\n",
            "|R3J0ODKEVRU9A7|          4|            2|          4|   Y|\n",
            "|R166YOVN38LSW1|          5|            0|          0|   Y|\n",
            "+--------------+-----------+-------------+-----------+----+\n",
            "only showing top 10 rows\n",
            "\n"
          ]
        }
      ],
      "source": [
        "software_reviews = spark.read.jdbc(url=jdbc_url, table=\"software_vine_reviews\", properties=config)\n",
        "software_reviews.show(10)"
      ]
    },
    {
      "cell_type": "code",
      "execution_count": 16,
      "metadata": {
        "colab": {
          "base_uri": "https://localhost:8080/"
        },
        "id": "BLRGhUIZ9uMH",
        "outputId": "868abd7b-e97c-4053-fb51-79511c0b07bf"
      },
      "outputs": [
        {
          "name": "stdout",
          "output_type": "stream",
          "text": [
            "+-------+--------------+------------------+------------------+------------------+----+\n",
            "|summary|     review_id|       star_rating|     helpful_votes|       total_votes|vine|\n",
            "+-------+--------------+------------------+------------------+------------------+----+\n",
            "|  count|          4290|              4290|              4290|              4290|4290|\n",
            "|   mean|          null|4.0748251748251745| 2.348717948717949|3.2783216783216784|null|\n",
            "| stddev|          null| 0.918322230494836|12.580450532105258|13.769965761758156|null|\n",
            "|    min|R10079FVQQF194|                 1|                 0|                 0|   Y|\n",
            "|    max| RZXZZ98IW0F2G|                 5|               347|               362|   Y|\n",
            "+-------+--------------+------------------+------------------+------------------+----+\n",
            "\n"
          ]
        }
      ],
      "source": [
        "video_game_reviews.describe().show()"
      ]
    },
    {
      "cell_type": "code",
      "execution_count": 8,
      "metadata": {
        "colab": {
          "base_uri": "https://localhost:8080/"
        },
        "id": "npLqS6PV9uKV",
        "outputId": "bde36fba-0282-4bf9-b212-7b4a0f0f4923"
      },
      "outputs": [
        {
          "name": "stdout",
          "output_type": "stream",
          "text": [
            "+-------+--------------+------------------+------------------+------------------+-----+\n",
            "|summary|     review_id|       star_rating|     helpful_votes|       total_votes| vine|\n",
            "+-------+--------------+------------------+------------------+------------------+-----+\n",
            "|  count|         10415|             10415|             10415|             10415|10415|\n",
            "|   mean|          null| 3.839174267882861|3.1916466634661544| 3.871435429668747| null|\n",
            "| stddev|          null|1.1056021641842058| 24.91389719042122|25.626546433058138| null|\n",
            "|    min|R1000QJKXGZITK|                 1|                 0|                 0|    Y|\n",
            "|    max| RZZ8LCK0XZBRA|                 5|              1231|              1247|    Y|\n",
            "+-------+--------------+------------------+------------------+------------------+-----+\n",
            "\n"
          ]
        }
      ],
      "source": [
        "software_reviews.describe().show()"
      ]
    },
    {
      "cell_type": "code",
      "execution_count": 17,
      "metadata": {
        "colab": {
          "base_uri": "https://localhost:8080/"
        },
        "id": "zitW3WJBD8Cq",
        "outputId": "26cfe568-c74c-45ca-aab8-f3f600a1d9e0"
      },
      "outputs": [
        {
          "name": "stdout",
          "output_type": "stream",
          "text": [
            "+-------------+-----+----------+\n",
            "|helpful_votes|count|percentage|\n",
            "+-------------+-----+----------+\n",
            "|            0| 2314|    0.5394|\n",
            "|            1|  905|     0.211|\n",
            "|            2|  370|    0.0862|\n",
            "|            3|  201|    0.0469|\n",
            "|            4|  136|    0.0317|\n",
            "|            5|   69|    0.0161|\n",
            "|            6|   51|    0.0119|\n",
            "|            7|   40|    0.0093|\n",
            "|            8|   21|    0.0049|\n",
            "|           10|   18|    0.0042|\n",
            "|            9|   16|    0.0037|\n",
            "|           12|   14|    0.0033|\n",
            "|           11|   11|    0.0026|\n",
            "|           13|   10|    0.0023|\n",
            "|           16|    9|    0.0021|\n",
            "|           19|    7|    0.0016|\n",
            "|           14|    6|    0.0014|\n",
            "|           21|    6|    0.0014|\n",
            "|           15|    5|    0.0012|\n",
            "|           17|    5|    0.0012|\n",
            "+-------------+-----+----------+\n",
            "only showing top 20 rows\n",
            "\n"
          ]
        }
      ],
      "source": [
        "from pyspark.sql.functions import round\n",
        "video_game_reviews_count = video_game_reviews.count()\n",
        "video_game_helpful_vote = video_game_reviews.groupBy(\"helpful_votes\").count()\n",
        "video_game_helpful_vote = video_game_helpful_vote.orderBy(video_game_helpful_vote[\"count\"].desc())\n",
        "video_game_helpful_vote.withColumn('percentage', round(video_game_helpful_vote[\"count\"]/video_game_reviews_count,4)).show()"
      ]
    },
    {
      "cell_type": "code",
      "execution_count": 10,
      "metadata": {
        "colab": {
          "base_uri": "https://localhost:8080/"
        },
        "id": "-dL-KcOkD_us",
        "outputId": "ec1f9cce-6e0b-4f3b-f0e6-5d00a13c6e93"
      },
      "outputs": [
        {
          "name": "stdout",
          "output_type": "stream",
          "text": [
            "+-------------+-----+----------+\n",
            "|helpful_votes|count|percentage|\n",
            "+-------------+-----+----------+\n",
            "|            0| 5054|    0.4853|\n",
            "|            1| 2315|    0.2223|\n",
            "|            2| 1069|    0.1026|\n",
            "|            3|  572|    0.0549|\n",
            "|            4|  347|    0.0333|\n",
            "|            5|  223|    0.0214|\n",
            "|            6|  147|    0.0141|\n",
            "|            7|  111|    0.0107|\n",
            "|            8|   65|    0.0062|\n",
            "|            9|   56|    0.0054|\n",
            "|           11|   50|    0.0048|\n",
            "|           10|   41|    0.0039|\n",
            "|           14|   24|    0.0023|\n",
            "|           13|   24|    0.0023|\n",
            "|           12|   24|    0.0023|\n",
            "|           15|   18|    0.0017|\n",
            "|           19|   16|    0.0015|\n",
            "|           16|   15|    0.0014|\n",
            "|           17|   13|    0.0012|\n",
            "|           23|   12|    0.0012|\n",
            "+-------------+-----+----------+\n",
            "only showing top 20 rows\n",
            "\n"
          ]
        }
      ],
      "source": [
        "software_reviews_count = software_reviews.count()\n",
        "software_helpful_vote = software_reviews.groupBy(\"helpful_votes\").count()\n",
        "software_helpful_vote = software_helpful_vote.orderBy(software_helpful_vote[\"count\"].desc())\n",
        "software_helpful_vote.withColumn('percentage', round(software_helpful_vote[\"count\"]/software_reviews_count,4)).show()"
      ]
    },
    {
      "cell_type": "code",
      "execution_count": 18,
      "metadata": {
        "colab": {
          "base_uri": "https://localhost:8080/"
        },
        "id": "0T1Mcmp6EDa1",
        "outputId": "0627f5cf-4e4b-4857-e8e6-53ea7a10c356"
      },
      "outputs": [
        {
          "name": "stdout",
          "output_type": "stream",
          "text": [
            "+-----------+-----+----------+\n",
            "|star_rating|count|percentage|\n",
            "+-----------+-----+----------+\n",
            "|          4| 1711|    0.3988|\n",
            "|          5| 1607|    0.3746|\n",
            "|          3|  718|    0.1674|\n",
            "|          2|  194|    0.0452|\n",
            "|          1|   60|     0.014|\n",
            "+-----------+-----+----------+\n",
            "\n"
          ]
        }
      ],
      "source": [
        "video_game_star_rating = video_game_reviews.groupBy(\"star_rating\").count()\n",
        "video_game_star_rating = video_game_star_rating.orderBy(video_game_star_rating[\"count\"].desc())\n",
        "video_game_star_rating.withColumn('percentage', round(video_game_star_rating[\"count\"]/video_game_reviews_count,4)).show()"
      ]
    },
    {
      "cell_type": "code",
      "execution_count": 12,
      "metadata": {
        "colab": {
          "base_uri": "https://localhost:8080/"
        },
        "id": "GCMaS_xPEDSW",
        "outputId": "f47b25ea-84f2-4f1a-cca5-a15aa05d26a0"
      },
      "outputs": [
        {
          "name": "stdout",
          "output_type": "stream",
          "text": [
            "+-----------+-----+----------+\n",
            "|star_rating|count|percentage|\n",
            "+-----------+-----+----------+\n",
            "|          4| 3755|    0.3605|\n",
            "|          5| 3381|    0.3246|\n",
            "|          3| 2006|    0.1926|\n",
            "|          2|  769|    0.0738|\n",
            "|          1|  504|    0.0484|\n",
            "+-----------+-----+----------+\n",
            "\n"
          ]
        }
      ],
      "source": [
        "software_star_rating = software_reviews.groupBy(\"star_rating\").count()\n",
        "software_star_rating = software_star_rating.orderBy(software_star_rating[\"count\"].desc())\n",
        "software_star_rating.withColumn('percentage', round(software_star_rating[\"count\"]/software_reviews_count,4)).show()"
      ]
    }
  ],
  "metadata": {
    "colab": {
      "collapsed_sections": [],
      "name": "vine_reviews_analysis.ipynb",
      "provenance": []
    },
    "kernelspec": {
      "display_name": "Python 3",
      "name": "python3"
    },
    "language_info": {
      "name": "python"
    }
  },
  "nbformat": 4,
  "nbformat_minor": 0
}
